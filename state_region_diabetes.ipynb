{
 "cells": [
  {
   "cell_type": "code",
   "execution_count": 4,
   "id": "bf839541-bf23-4fb3-a780-b58ace809d81",
   "metadata": {},
   "outputs": [],
   "source": [
    "import pandas as pd\n",
    "import numpy as np"
   ]
  },
  {
   "cell_type": "markdown",
   "id": "d07c8577",
   "metadata": {},
   "source": [
    "## Data Entry\n",
    "Based on sources, enter the states that belong to each region and the diabetic population, proportion of each state. \n",
    "\n",
    "Dictionary: \n",
    "1. region_state | key = region | value = list(states)\n",
    "2. state_diabetes | key = state | value = tuple(diabetic population, diabetic proportion, policy_in_effect)"
   ]
  },
  {
   "cell_type": "code",
   "execution_count": 7,
   "id": "4debd030",
   "metadata": {},
   "outputs": [],
   "source": [
    "# Region vs State\n",
    "region_state = {\"Northeast\": [\n",
    "    \"Connecticut\", \n",
    "    \"Maine\", \n",
    "    \"Massachusetts\", \n",
    "    \"New Hampshire\", \n",
    "    \"New Jersey\", \n",
    "    \"New York\", \n",
    "    \"Pennsylvania\", \n",
    "    \"Rhode Island\", \n",
    "    \"Vermont\"],\n",
    "\"Midwest\": [\n",
    "    \"Indiana\",\n",
    "    \"Illinois\",\n",
    "    \"Iowa\",\n",
    "    \"Kansas\",\n",
    "    \"Michigan\",\n",
    "    \"Minnesota\",\n",
    "    \"Missouri\",\n",
    "    \"Nebraska\",\n",
    "    \"North Dakota\",\n",
    "    \"Ohio\",\n",
    "    \"South Dakota\",\n",
    "    \"Wisconsin\"],\n",
    "\"South\": [\n",
    "    \"Alabama\",\n",
    "    \"Arkansas\",\n",
    "    \"Delaware\",\n",
    "    \"District of Columbia\",\n",
    "    \"Florida\",\n",
    "    \"Georgia\",\n",
    "    \"Kentucky\",\n",
    "    \"Louisiana\",\n",
    "    \"Maryland\",\n",
    "    \"Mississippi\",\n",
    "    \"North Carolina\",\n",
    "    \"Oklahoma\",\n",
    "    \"South Carolina\",\n",
    "    \"Tennessee\",\n",
    "    \"Texas\",\n",
    "    \"Virginia\",\n",
    "    \"West Virginia\"],\n",
    "\"West\": [\n",
    "    \"Alaska\",\n",
    "    \"Arizona\",\n",
    "    \"California\",\n",
    "    \"Colorado\",\n",
    "    \"Hawaii\",\n",
    "    \"Idaho\",\n",
    "    \"Montana\",\n",
    "    \"Nevada\",\n",
    "    \"New Mexico\",\n",
    "    \"Oregon\",\n",
    "    \"Utah\",\n",
    "    \"Washington\",\n",
    "    \"Wyoming\"]\n",
    "}"
   ]
  },
  {
   "cell_type": "code",
   "execution_count": 21,
   "id": "b7fdd1ae",
   "metadata": {},
   "outputs": [],
   "source": [
    "state_diabetes = {\n",
    "    \"Connecticut\": (308800, 9.1,1),\n",
    "    \"Maine\": (124800, 9.0,1),\n",
    "    \"Massachusetts\": (592500,9.2,0),\n",
    "    \"New Hampshire\": (111300,8.1,1),\n",
    "    \"New Jersey\": (792400,9.5,1),\n",
    "    \"New York\": (1779200,9.9,1),\n",
    "    \"Pennsylvania\": (1183000,10,0),\n",
    "    \"Rhode Island\": (102500,10,1),\n",
    "    \"Vermont\": (44600,7,1),\n",
    "    \"Indiana\": (66400,11.2,0),\n",
    "    \"Illinois\": (1185700,10.7,1),\n",
    "    \"Iowa\": (287500,10.2,0),\n",
    "    \"Kansas\": (256500,10.1,0),\n",
    "    \"Michigan\": (923400,10,0),\n",
    "    \"Minnesota\": (452000,9,1),\n",
    "    \"Missouri\": (563700,10.1,0),\n",
    "    \"Nebraska\": (161500,9.7,1),\n",
    "    \"North Dakota\": (57300,8.9,0),\n",
    "    \"Ohio\": (1203600,11.3,0),\n",
    "    \"South Dakota\": (62000,8.0,0),\n",
    "    \"Wisconsin\": (477700,8.8,0),\n",
    "    \"Alabama\": (614900,13.4,1),\n",
    "    \"Arkansas\": (367300,13.9,0),\n",
    "    \"Delaware\": (111800,11.7,1),\n",
    "    \"District of Columbia\": (44100, 8.7,1),\n",
    "    \"Florida\": (2173400,9.6,0),\n",
    "    \"Georgia\": (1017100,10.9,0),\n",
    "    \"Kentucky\": (519100,12.9,1),\n",
    "    \"Louisiana\": (520500,13.2,1),\n",
    "    \"Maryland\": (578400,10.5,1),\n",
    "    \"Mississippi\": (346900,13.7,0),\n",
    "    \"North Carolina\": (1011800,10.6,0),\n",
    "    \"Oklahoma\": (405800,12.1,1),\n",
    "    \"South Carolina\": (533300,11,0),\n",
    "    \"Tennessee\": (813400,13,0),\n",
    "    \"Texas\": (3127800,13.2,1),\n",
    "    \"Virginia\": (870500,11.3,1),\n",
    "    \"West Virginia\": (247700,14.4,1),\n",
    "    \"Alaska\": (48500, 8.3,0),\n",
    "    \"Arizona\": (731900,11.3,0),\n",
    "    \"California\": (3520500,10.6,0),\n",
    "    \"Colorado\": (377300,7.6,1),\n",
    "    \"Hawaii\": (134100,10.3,0),\n",
    "    \"Idaho\": (145700,8.9,0),\n",
    "    \"Montana\": (74400,7.1,1),\n",
    "    \"Nevada\": (250900,8.8,0),\n",
    "    \"New Mexico\": (207600,11,1),\n",
    "    \"Oregon\": (354400,9,1),\n",
    "    \"Utah\": (214700,8.9,1),\n",
    "    \"Washington\": (595800,8.8,1),\n",
    "    \"Wyoming\": (42000, 8.1,0)\n",
    "}"
   ]
  },
  {
   "cell_type": "markdown",
   "id": "3814b5a6",
   "metadata": {},
   "source": [
    "## Data Combination"
   ]
  },
  {
   "cell_type": "code",
   "execution_count": 22,
   "id": "7d217271",
   "metadata": {},
   "outputs": [],
   "source": [
    "stat_reg_df = pd.DataFrame({\n",
    "    'state': [v[i] for k,v in region_state.items() for i in range(len(v))],\n",
    "    'region': [k for k,v in region_state.items() for i in range(len(v))]\n",
    "    })\n",
    "\n",
    "stat_diab_df = pd.DataFrame({\n",
    "    'state': list(state_diabetes.keys()),\n",
    "    'diabetic_patients':[v[0] for v in state_diabetes.values()],\n",
    "    'has_cap': [v[2] for v in state_diabetes.values()]\n",
    "})"
   ]
  },
  {
   "cell_type": "code",
   "execution_count": 24,
   "id": "69893012",
   "metadata": {},
   "outputs": [
    {
     "data": {
      "text/html": [
       "<div>\n",
       "<style scoped>\n",
       "    .dataframe tbody tr th:only-of-type {\n",
       "        vertical-align: middle;\n",
       "    }\n",
       "\n",
       "    .dataframe tbody tr th {\n",
       "        vertical-align: top;\n",
       "    }\n",
       "\n",
       "    .dataframe thead th {\n",
       "        text-align: right;\n",
       "    }\n",
       "</style>\n",
       "<table border=\"1\" class=\"dataframe\">\n",
       "  <thead>\n",
       "    <tr style=\"text-align: right;\">\n",
       "      <th></th>\n",
       "      <th>state</th>\n",
       "      <th>diabetic_patients</th>\n",
       "      <th>has_cap</th>\n",
       "      <th>region</th>\n",
       "    </tr>\n",
       "  </thead>\n",
       "  <tbody>\n",
       "    <tr>\n",
       "      <th>0</th>\n",
       "      <td>Connecticut</td>\n",
       "      <td>308800</td>\n",
       "      <td>1</td>\n",
       "      <td>Northeast</td>\n",
       "    </tr>\n",
       "    <tr>\n",
       "      <th>1</th>\n",
       "      <td>Maine</td>\n",
       "      <td>124800</td>\n",
       "      <td>1</td>\n",
       "      <td>Northeast</td>\n",
       "    </tr>\n",
       "    <tr>\n",
       "      <th>2</th>\n",
       "      <td>Massachusetts</td>\n",
       "      <td>592500</td>\n",
       "      <td>0</td>\n",
       "      <td>Northeast</td>\n",
       "    </tr>\n",
       "    <tr>\n",
       "      <th>3</th>\n",
       "      <td>New Hampshire</td>\n",
       "      <td>111300</td>\n",
       "      <td>1</td>\n",
       "      <td>Northeast</td>\n",
       "    </tr>\n",
       "    <tr>\n",
       "      <th>4</th>\n",
       "      <td>New Jersey</td>\n",
       "      <td>792400</td>\n",
       "      <td>1</td>\n",
       "      <td>Northeast</td>\n",
       "    </tr>\n",
       "  </tbody>\n",
       "</table>\n",
       "</div>"
      ],
      "text/plain": [
       "           state  diabetic_patients  has_cap     region\n",
       "0    Connecticut             308800        1  Northeast\n",
       "1          Maine             124800        1  Northeast\n",
       "2  Massachusetts             592500        0  Northeast\n",
       "3  New Hampshire             111300        1  Northeast\n",
       "4     New Jersey             792400        1  Northeast"
      ]
     },
     "execution_count": 24,
     "metadata": {},
     "output_type": "execute_result"
    }
   ],
   "source": [
    "df = pd.concat([stat_diab_df, stat_reg_df[['region']]], axis = 1)\n",
    "df.head()"
   ]
  },
  {
   "cell_type": "code",
   "execution_count": 25,
   "id": "a62e2e73",
   "metadata": {},
   "outputs": [],
   "source": [
    "df['diab_w_cap'] = df['diabetic_patients']*df['has_cap']"
   ]
  },
  {
   "cell_type": "code",
   "execution_count": 28,
   "id": "bc666386",
   "metadata": {},
   "outputs": [],
   "source": [
    "region_df = df.groupby('region').sum()\n",
    "region_df['percentage_w_cap'] = region_df['diab_w_cap']/region_df['diabetic_patients']*100"
   ]
  },
  {
   "cell_type": "code",
   "execution_count": 33,
   "id": "69fdf542",
   "metadata": {},
   "outputs": [
    {
     "data": {
      "text/html": [
       "<div>\n",
       "<style scoped>\n",
       "    .dataframe tbody tr th:only-of-type {\n",
       "        vertical-align: middle;\n",
       "    }\n",
       "\n",
       "    .dataframe tbody tr th {\n",
       "        vertical-align: top;\n",
       "    }\n",
       "\n",
       "    .dataframe thead th {\n",
       "        text-align: right;\n",
       "    }\n",
       "</style>\n",
       "<table border=\"1\" class=\"dataframe\">\n",
       "  <thead>\n",
       "    <tr style=\"text-align: right;\">\n",
       "      <th></th>\n",
       "      <th>diab_w_cap</th>\n",
       "      <th>diabetic_patients</th>\n",
       "      <th>percentage_w_cap</th>\n",
       "    </tr>\n",
       "    <tr>\n",
       "      <th>region</th>\n",
       "      <th></th>\n",
       "      <th></th>\n",
       "      <th></th>\n",
       "    </tr>\n",
       "  </thead>\n",
       "  <tbody>\n",
       "    <tr>\n",
       "      <th>Midwest</th>\n",
       "      <td>1799200</td>\n",
       "      <td>5697300</td>\n",
       "      <td>31.579871</td>\n",
       "    </tr>\n",
       "    <tr>\n",
       "      <th>Northeast</th>\n",
       "      <td>3263600</td>\n",
       "      <td>5039100</td>\n",
       "      <td>64.765534</td>\n",
       "    </tr>\n",
       "    <tr>\n",
       "      <th>South</th>\n",
       "      <td>7040600</td>\n",
       "      <td>13303800</td>\n",
       "      <td>52.921722</td>\n",
       "    </tr>\n",
       "    <tr>\n",
       "      <th>West</th>\n",
       "      <td>1824200</td>\n",
       "      <td>6697800</td>\n",
       "      <td>27.235809</td>\n",
       "    </tr>\n",
       "  </tbody>\n",
       "</table>\n",
       "</div>"
      ],
      "text/plain": [
       "           diab_w_cap  diabetic_patients  percentage_w_cap\n",
       "region                                                    \n",
       "Midwest       1799200            5697300         31.579871\n",
       "Northeast     3263600            5039100         64.765534\n",
       "South         7040600           13303800         52.921722\n",
       "West          1824200            6697800         27.235809"
      ]
     },
     "execution_count": 33,
     "metadata": {},
     "output_type": "execute_result"
    }
   ],
   "source": [
    "region_df[['diab_w_cap', 'diabetic_patients', 'percentage_w_cap']]"
   ]
  },
  {
   "cell_type": "markdown",
   "id": "3eda89ba",
   "metadata": {},
   "source": [
    "## Data Correction\n",
    "Correct has_cap column to reflect if the state has had a policy cap take effect before 2022."
   ]
  },
  {
   "cell_type": "code",
   "execution_count": 35,
   "id": "8876550d",
   "metadata": {},
   "outputs": [],
   "source": [
    "# states that had policy change after 2022\n",
    "for state in ['Louisiana', 'Maryland', 'New Jersey', 'West Virginia', 'Washington', 'Montana',\n",
    "              'Nebraska', 'North Dakota', 'Illinois', 'Minnesota']:\n",
    "    state_diabetes[state] = (state_diabetes[state][0], state_diabetes[state][1], 0)"
   ]
  },
  {
   "cell_type": "code",
   "execution_count": 39,
   "id": "11390fe8",
   "metadata": {},
   "outputs": [],
   "source": [
    "df_updated = pd.DataFrame({\n",
    "    'state': [v[i] for k,v in region_state.items() for i in range(len(v))],\n",
    "    'region': [k for k,v in region_state.items() for i in range(len(v))],\n",
    "    'diabetic_patients':[v[0] for v in state_diabetes.values()],\n",
    "    'has_cap': [v[2] for v in state_diabetes.values()]\n",
    "    })"
   ]
  },
  {
   "cell_type": "code",
   "execution_count": 41,
   "id": "7d6e9685",
   "metadata": {},
   "outputs": [],
   "source": [
    "df_updated['pat_w_cap'] = df_updated['diabetic_patients']*df_updated['has_cap']"
   ]
  },
  {
   "cell_type": "code",
   "execution_count": 42,
   "id": "7f1162e7",
   "metadata": {},
   "outputs": [
    {
     "data": {
      "text/html": [
       "<div>\n",
       "<style scoped>\n",
       "    .dataframe tbody tr th:only-of-type {\n",
       "        vertical-align: middle;\n",
       "    }\n",
       "\n",
       "    .dataframe tbody tr th {\n",
       "        vertical-align: top;\n",
       "    }\n",
       "\n",
       "    .dataframe thead th {\n",
       "        text-align: right;\n",
       "    }\n",
       "</style>\n",
       "<table border=\"1\" class=\"dataframe\">\n",
       "  <thead>\n",
       "    <tr style=\"text-align: right;\">\n",
       "      <th></th>\n",
       "      <th>pat_w_cap</th>\n",
       "      <th>diabetic_patients</th>\n",
       "      <th>percentage_w_cap</th>\n",
       "    </tr>\n",
       "    <tr>\n",
       "      <th>region</th>\n",
       "      <th></th>\n",
       "      <th></th>\n",
       "      <th></th>\n",
       "    </tr>\n",
       "  </thead>\n",
       "  <tbody>\n",
       "    <tr>\n",
       "      <th>Midwest</th>\n",
       "      <td>0</td>\n",
       "      <td>5697300</td>\n",
       "      <td>0.000000</td>\n",
       "    </tr>\n",
       "    <tr>\n",
       "      <th>Northeast</th>\n",
       "      <td>2471200</td>\n",
       "      <td>5039100</td>\n",
       "      <td>49.040503</td>\n",
       "    </tr>\n",
       "    <tr>\n",
       "      <th>South</th>\n",
       "      <td>5694000</td>\n",
       "      <td>13303800</td>\n",
       "      <td>42.799802</td>\n",
       "    </tr>\n",
       "    <tr>\n",
       "      <th>West</th>\n",
       "      <td>1154000</td>\n",
       "      <td>6697800</td>\n",
       "      <td>17.229538</td>\n",
       "    </tr>\n",
       "  </tbody>\n",
       "</table>\n",
       "</div>"
      ],
      "text/plain": [
       "           pat_w_cap  diabetic_patients  percentage_w_cap\n",
       "region                                                   \n",
       "Midwest            0            5697300          0.000000\n",
       "Northeast    2471200            5039100         49.040503\n",
       "South        5694000           13303800         42.799802\n",
       "West         1154000            6697800         17.229538"
      ]
     },
     "execution_count": 42,
     "metadata": {},
     "output_type": "execute_result"
    }
   ],
   "source": [
    "region_df_updated = df_updated.groupby('region').sum()\n",
    "region_df_updated['percentage_w_cap'] = region_df_updated['pat_w_cap']/region_df_updated['diabetic_patients']*100\n",
    "region_df_updated[['pat_w_cap', 'diabetic_patients', 'percentage_w_cap']]"
   ]
  },
  {
   "cell_type": "code",
   "execution_count": 53,
   "id": "ab943a7c",
   "metadata": {},
   "outputs": [
    {
     "name": "stdout",
     "output_type": "stream",
     "text": [
      "Proportion of diabetic patients with cap in Midwest and West: 9.3%\n",
      "Proportion of diabetic patients with cap in Northeast and South: 44.5%\n"
     ]
    }
   ],
   "source": [
    "Midwest_West = (\n",
    "    region_df_updated.loc['Midwest','pat_w_cap'] + region_df_updated.loc['West','pat_w_cap']\n",
    "    )/(\n",
    "    region_df_updated.loc['Midwest','diabetic_patients'] + region_df_updated.loc['West','diabetic_patients']\n",
    ")\n",
    "Northeast_South = (\n",
    "    region_df_updated.loc['Northeast','pat_w_cap'] + region_df_updated.loc['South','pat_w_cap']\n",
    "    )/(\n",
    "    region_df_updated.loc['Northeast','diabetic_patients'] + region_df_updated.loc['South','diabetic_patients']\n",
    ")\n",
    "print(f'Proportion of diabetic patients with cap in Midwest and West: {Midwest_West*100:.1f}%')\n",
    "print(f'Proportion of diabetic patients with cap in Northeast and South: {Northeast_South*100:.1f}%')"
   ]
  },
  {
   "cell_type": "code",
   "execution_count": null,
   "id": "b376ca65",
   "metadata": {},
   "outputs": [],
   "source": []
  }
 ],
 "metadata": {
  "kernelspec": {
   "display_name": "Python 3 (ipykernel)",
   "language": "python",
   "name": "python3"
  },
  "language_info": {
   "codemirror_mode": {
    "name": "ipython",
    "version": 3
   },
   "file_extension": ".py",
   "mimetype": "text/x-python",
   "name": "python",
   "nbconvert_exporter": "python",
   "pygments_lexer": "ipython3",
   "version": "3.12.4"
  }
 },
 "nbformat": 4,
 "nbformat_minor": 5
}
